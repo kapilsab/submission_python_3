{
 "cells": [
  {
   "cell_type": "code",
   "execution_count": 55,
   "metadata": {},
   "outputs": [
    {
     "data": {
      "text/plain": [
       "10"
      ]
     },
     "execution_count": 55,
     "metadata": {},
     "output_type": "execute_result"
    }
   ],
   "source": [
    "######################################### Session 3: Assignment 1 ##################################\n",
    "#\n",
    "#1.1 Write a Python Program to implement your own myreduce() function which works exactly\n",
    "#like Python's built-in function reduce()\n",
    "#\n",
    "####################################################################################################\n",
    "\n",
    "def add(x,y):\n",
    "    #print(\"adding \",x,y )\n",
    "    return x+y\n",
    "\n",
    "def myreduce(list):\n",
    "    currentTotal=0\n",
    "    for items in list:\n",
    "        #print(currentTotal, items)\n",
    "        #print(currentTotal,  \" + \", items)\n",
    "        currentTotal = add(currentTotal, items)        \n",
    "    return currentTotal\n",
    "\n",
    "currentList = [1,2,3,4]\n",
    "myreduce(currentList)"
   ]
  },
  {
   "cell_type": "code",
   "execution_count": 52,
   "metadata": {
    "scrolled": true
   },
   "outputs": [
    {
     "data": {
      "text/plain": [
       "[1, 2, 3, 4]"
      ]
     },
     "execution_count": 52,
     "metadata": {},
     "output_type": "execute_result"
    }
   ],
   "source": [
    "#1.2 Write a Python program to implement your own myfilter() function which works exactly like Python's built-in function filter()\n",
    "\n",
    "def filter(currentList):\n",
    "    returnList=[]\n",
    "    for items in currentList:\n",
    "        if items > 0 :\n",
    "            returnList.append(items)\n",
    "    return returnList\n",
    "\n",
    "inputList = range(-5,5)\n",
    "filter(inputList)"
   ]
  },
  {
   "cell_type": "code",
   "execution_count": 54,
   "metadata": {},
   "outputs": [
    {
     "name": "stdout",
     "output_type": "stream",
     "text": [
      "['A', 'C', 'A', 'D', 'G', 'I', 'L', 'D']\n",
      "['x', 'xx', 'xxx', 'xxxx', 'y', 'yy', 'yyy', 'yyyy', 'z', 'zz', 'zzz', 'zzzz']\n",
      "['x', 'y', 'z', 'xx', 'yy', 'zz', 'xxx', 'yyy', 'zzz', 'xxxx', 'yyyy', 'zzzz']\n",
      "[[2], [3], [4], [3], [4], [5], [4], [5], [6]]\n",
      "[[2, 3, 4, 5], [3, 4, 5, 6], [4, 5, 6, 7], [5, 6, 7, 8]]\n",
      "[(1, 1), (2, 1), (3, 1), (1, 2), (2, 2), (3, 2), (1, 3), (2, 3), (3, 3)]\n"
     ]
    }
   ],
   "source": [
    "#2. Implement List comprehensions to produce the following lists.\n",
    "# Write List comprehensions to produce the following Lists\n",
    "# ['A', 'C', 'A', 'D', 'G', 'I', ’L’, ‘ D’]\n",
    "# ['x', 'xx', 'xxx', 'xxxx', 'y', 'yy', 'yyy', 'yyyy', 'z', 'zz', 'zzz', 'zzzz']\n",
    "# ['x', 'y', 'z', 'xx', 'yy', 'zz', 'xx', 'yy', 'zz', 'xxxx', 'yyyy', 'zzzz']\n",
    "# [[2], [3], [4], [3], [4], [5], [4], [5], [6]]\n",
    "# [[2, 3, 4, 5], [3, 4, 5, 6], [4, 5, 6, 7], [5, 6, 7, 8]]\n",
    "# [(1, 1), (2, 1), (3, 1), (1, 2), (2, 2), (3, 2), (1, 3), (2, 3), (3, 3)]\n",
    "\n",
    "# ['A', 'C', 'A', 'D', 'G', 'I', ’L’, ‘ D’] -- DONE\n",
    "listOne = [x for x in ['A','C','A','D','G','I','L','D']]\n",
    "print(listOne)\n",
    "\n",
    "# ['x', 'xx', 'xxx', 'xxxx', 'y', 'yy', 'yyy', 'yyyy', 'z', 'zz', 'zzz', 'zzzz'] -- DONE\n",
    "listTwo = [x*a for x in ['x','y','z'] for a in range(1,5)]\n",
    "print(listTwo)\n",
    "\n",
    "# ['x', 'y', 'z', 'xx', 'yy', 'zz', 'xx', 'yy', 'zz', 'xxxx', 'yyyy', 'zzzz']\n",
    "listThree = [x*a for a in range(1,5) for x in ['x','y','z'] ]\n",
    "print(listThree)\n",
    "\n",
    "# [[2], [3], [4], [3], [4], [5], [4], [5], [6]] -- DONE\n",
    "listFour = [[x+y] for y in range(0,3) for x in range(2,5)]\n",
    "print(listFour)\n",
    "\n",
    "# [[2, 3, 4, 5], [3, 4, 5, 6], [4, 5, 6, 7], [5, 6, 7, 8]] -- DONE\n",
    "listFive = [[x+y for y in range(0,4)] for x in range(2,6)]\n",
    "print(listFive)\n",
    "\n",
    "# [(1, 1), (2, 1), (3, 1), (1, 2), (2, 2), (3, 2), (1, 3), (2, 3), (3, 3)] -- \n",
    "listSix =  [(y,x) for x in [1,2,3] for y in range(1,4)]\n",
    "print(listSix)"
   ]
  },
  {
   "cell_type": "code",
   "execution_count": 61,
   "metadata": {
    "scrolled": true
   },
   "outputs": [
    {
     "data": {
      "text/plain": [
       "'LongestWord'"
      ]
     },
     "execution_count": 61,
     "metadata": {},
     "output_type": "execute_result"
    }
   ],
   "source": [
    "# 3. Implement a function longestWord() that takes a list of words and returns the longest one.\n",
    "\n",
    "def longestWord(myList):\n",
    "    currentLongestWord = ''\n",
    "    currentLongestWordLength = 0\n",
    "    for items in myList:\n",
    "        if len(items) > currentLongestWordLength:\n",
    "            currentLongestWordLength = len(items)\n",
    "            currentLongestWord = items\n",
    "    return currentLongestWord\n",
    "wordList = [\"Word\", \"LongerWork\", \"LongestWord\"]\n",
    "longestWord(wordList)\n"
   ]
  },
  {
   "cell_type": "code",
   "execution_count": null,
   "metadata": {
    "collapsed": true
   },
   "outputs": [],
   "source": []
  }
 ],
 "metadata": {
  "kernelspec": {
   "display_name": "Python 3",
   "language": "python",
   "name": "python3"
  },
  "language_info": {
   "codemirror_mode": {
    "name": "ipython",
    "version": 3
   },
   "file_extension": ".py",
   "mimetype": "text/x-python",
   "name": "python",
   "nbconvert_exporter": "python",
   "pygments_lexer": "ipython3",
   "version": "3.6.3"
  }
 },
 "nbformat": 4,
 "nbformat_minor": 2
}
